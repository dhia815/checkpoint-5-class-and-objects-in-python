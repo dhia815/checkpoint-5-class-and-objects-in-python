{
 "cells": [
  {
   "cell_type": "code",
   "execution_count": 20,
   "id": "86f0cc60",
   "metadata": {},
   "outputs": [
    {
     "name": "stdout",
     "output_type": "stream",
     "text": [
      "The result is (1, 2, 3)\n"
     ]
    }
   ],
   "source": [
    "# Question 1 :\n",
    "class Point3D:\n",
    "    def __init__(self, x, y, z):\n",
    "        self.x = x\n",
    "        self.y = y\n",
    "        self.z = z\n",
    "    def Tuple(self):\n",
    "        return self.x, self.y, self.z\n",
    "my_point = Point3D(1, 2, 3)\n",
    "print(\"The result is\", my_point.Tuple())"
   ]
  },
  {
   "cell_type": "code",
   "execution_count": 23,
   "id": "34e017e8",
   "metadata": {},
   "outputs": [
    {
     "name": "stdout",
     "output_type": "stream",
     "text": [
      "the area of my_rectangle is 12\n",
      "the perimeter of my_rectangle is 14\n"
     ]
    }
   ],
   "source": [
    "# Question 2 :\n",
    "class Rectangle:\n",
    "    def __init__(self, width, length):\n",
    "        self.width = width\n",
    "        self.length = length\n",
    "    def  area(self):\n",
    "        return self.length * self.width\n",
    "    def perimeter(self):\n",
    "        return (self.length + self.width) * 2\n",
    "my_rectangle = Rectangle(3, 4)\n",
    "print(\"the area of my_rectangle is\", my_rectangle.area())\n",
    "print(\"the perimeter of my_rectangle is\", my_rectangle.perimeter())"
   ]
  },
  {
   "cell_type": "code",
   "execution_count": 35,
   "id": "5e1f790d",
   "metadata": {},
   "outputs": [
    {
     "name": "stdout",
     "output_type": "stream",
     "text": [
      "the area of my_circle is approximately 79\n",
      "the perimeter of my_circle is approximately 31\n",
      "the point (5, 0) is inside the circle which has a center of coordinates (0, 0) and a radius of 5\n",
      "the point (1, 6) is not inside the circle which has a center of coordinates (0, 0) and a radius of 5\n"
     ]
    }
   ],
   "source": [
    "# Question 3 :\n",
    "import math\n",
    "class Circle:\n",
    "    def __init__(self, center, radius):\n",
    "        self.center = center\n",
    "        self.radius = radius\n",
    "    def  area(self):\n",
    "        return (\"the area of my_circle is approximately \" + str(round(self.radius ** 2 * math.pi)))\n",
    "    def perimeter(self):\n",
    "        return (\"the perimeter of my_circle is approximately \" + str(round(self.radius * 2 * math.pi)))\n",
    "    def isInside(self, point):\n",
    "        distance = math.sqrt((self.center[0] - point[0])**2 + (self.center[1] - point[1])**2)\n",
    "        if distance <= self.radius:\n",
    "            print(\"the point\", point,\"is inside the circle which has a center of coordinates\", self.center, \"and a radius of\", self.radius)\n",
    "        else:\n",
    "            print(\"the point\", point,\"is not inside the circle which has a center of coordinates\", self.center, \"and a radius of\", self.radius)\n",
    "my_circle = Circle((0,0), 5)\n",
    "print(my_circle.area())\n",
    "print(my_circle.perimeter())\n",
    "my_circle.isInside((5,0))\n",
    "my_circle.isInside((1,6))"
   ]
  },
  {
   "cell_type": "code",
   "execution_count": 16,
   "id": "92d19f4f",
   "metadata": {},
   "outputs": [
    {
     "name": "stdout",
     "output_type": "stream",
     "text": [
      "Dear client, after this operation you have 600 $ in your bank account.\n",
      "Dear client, we are sincerely sorry to have to inform you that you can not withdraw 800 $ that is due to the lack of this amount of money on your bank account, which has only 600 $. Thank you for your understanding\n",
      "Dear client, after this operation you have 2100 $ in your bank account.\n"
     ]
    }
   ],
   "source": [
    "# Question 4 :\n",
    "class bank_account:\n",
    "    def __init__(self, balance):\n",
    "        self.balance = balance\n",
    "    def deposit(self, amount):\n",
    "        self.balance += amount\n",
    "        print(\"Dear client, after this operation you have\",self.balance,\"$ in your bank account.\")\n",
    "    def withdraw(self, amount):\n",
    "        if (self.balance - amount) < 0:\n",
    "            print(\"Dear client, we are sincerely sorry to have to inform you that you can not withdraw\", amount, \"$ that is due to the lack of this amount of money on your bank account, which has only\", self.balance,\"$. Thank you for your understanding\")\n",
    "        else:\n",
    "            self.balance -= amount\n",
    "            print(\"Dear client, after this operation you have\",self.balance,\"$ in your bank account.\")\n",
    "Smith = bank_account(500)\n",
    "Jack = bank_account(3600)\n",
    "Smith.deposit(100)\n",
    "Smith.withdraw(800)\n",
    "Jack.withdraw(1500)"
   ]
  },
  {
   "cell_type": "code",
   "execution_count": null,
   "id": "00fbc273",
   "metadata": {},
   "outputs": [],
   "source": []
  }
 ],
 "metadata": {
  "kernelspec": {
   "display_name": "Python 3",
   "language": "python",
   "name": "python3"
  },
  "language_info": {
   "codemirror_mode": {
    "name": "ipython",
    "version": 3
   },
   "file_extension": ".py",
   "mimetype": "text/x-python",
   "name": "python",
   "nbconvert_exporter": "python",
   "pygments_lexer": "ipython3",
   "version": "3.8.8"
  }
 },
 "nbformat": 4,
 "nbformat_minor": 5
}
